{
  "nbformat": 4,
  "nbformat_minor": 0,
  "metadata": {
    "colab": {
      "provenance": []
    },
    "kernelspec": {
      "name": "python3",
      "display_name": "Python 3"
    },
    "language_info": {
      "name": "python"
    }
  },
  "cells": [
    {
      "cell_type": "markdown",
      "source": [
        "# Implementation (5)"
      ],
      "metadata": {
        "id": "ucoY5iGEwn2n"
      }
    },
    {
      "cell_type": "markdown",
      "source": [
        "**1. Work with time-indexed data: resample, interpolate missing.**     "
      ],
      "metadata": {
        "id": "uXDhq034wuEI"
      }
    },
    {
      "cell_type": "code",
      "execution_count": 1,
      "metadata": {
        "id": "ZnlFNNwSv7aO"
      },
      "outputs": [],
      "source": [
        "import pandas as pd\n",
        "rng = pd.date_range('2023-01-01', periods=10, freq='D')\n",
        "df = pd.DataFrame({'value': [1, None, 3, None, 5, 6, None, 8, 9, 10]}, index=rng)\n",
        "df_resampled = df.resample('2D').mean()\n",
        "df_interpolated = df.interpolate(method='time')\n"
      ]
    },
    {
      "cell_type": "markdown",
      "source": [
        "**2. Pivot a DataFrame from long to wide format and back.**\n"
      ],
      "metadata": {
        "id": "a2McWk0jxcFx"
      }
    },
    {
      "cell_type": "code",
      "source": [
        "df = pd.DataFrame({\n",
        "    'date': ['2023-01', '2023-01', '2023-02', '2023-02'],\n",
        "    'product': ['A', 'B', 'A', 'B'],\n",
        "    'sales': [100, 200, 150, 250]\n",
        "})\n",
        "df_wide = df.pivot(index='date', columns='product', values='sales')\n",
        "df_long = df_wide.reset_index().melt(id_vars='date', value_name='sales')\n"
      ],
      "metadata": {
        "id": "P_ujfofgx1Yu"
      },
      "execution_count": 2,
      "outputs": []
    },
    {
      "cell_type": "markdown",
      "source": [
        "**3. Create and query a multi-index DataFrame.**"
      ],
      "metadata": {
        "id": "Wc-rUcK3yCeI"
      }
    },
    {
      "cell_type": "code",
      "source": [
        "arrays = [['North', 'North', 'South', 'South'], ['2023', '2024', '2023', '2024']]\n",
        "index = pd.MultiIndex.from_arrays(arrays, names=('Region', 'Year'))\n",
        "df = pd.DataFrame({'Sales': [250, 300, 220, 270]}, index=index)\n",
        "print(df.loc['North'])  # Filter by first index level\n",
        "print(df.xs('2023', level='Year'))  # Filter by second index level\n"
      ],
      "metadata": {
        "colab": {
          "base_uri": "https://localhost:8080/"
        },
        "id": "mJxP_3TeyOYs",
        "outputId": "92828918-74be-4e22-d25b-d687c565e56a"
      },
      "execution_count": 3,
      "outputs": [
        {
          "output_type": "stream",
          "name": "stdout",
          "text": [
            "      Sales\n",
            "Year       \n",
            "2023    250\n",
            "2024    300\n",
            "        Sales\n",
            "Region       \n",
            "North     250\n",
            "South     220\n"
          ]
        }
      ]
    },
    {
      "cell_type": "markdown",
      "source": [
        "**4. Convert columns to categorical and measure memory savings.**"
      ],
      "metadata": {
        "id": "qYMLxEUTyea6"
      }
    },
    {
      "cell_type": "code",
      "source": [
        "df = pd.DataFrame({\n",
        "    'City': ['Mumbai', 'Delhi', 'Mumbai', 'Delhi', 'Delhi'],\n",
        "    'Rating': [4, 3, 5, 4, 3]\n",
        "})\n",
        "print(df.memory_usage(deep=True))\n",
        "df['City'] = df['City'].astype('category')\n",
        "print(df.memory_usage(deep=True))  # Observe reduced usage"
      ],
      "metadata": {
        "colab": {
          "base_uri": "https://localhost:8080/"
        },
        "id": "AQX96unwykvm",
        "outputId": "f606c3dc-de31-43e3-ec06-194c0a962aac"
      },
      "execution_count": 4,
      "outputs": [
        {
          "output_type": "stream",
          "name": "stdout",
          "text": [
            "Index     132\n",
            "City      312\n",
            "Rating     40\n",
            "dtype: int64\n",
            "Index     132\n",
            "City      238\n",
            "Rating     40\n",
            "dtype: int64\n"
          ]
        }
      ]
    },
    {
      "cell_type": "markdown",
      "source": [
        "**5. Read/write Parquet files and compare performance with CSV.**"
      ],
      "metadata": {
        "id": "MolnIUkBzOQc"
      }
    },
    {
      "cell_type": "code",
      "source": [
        "import pandas as pd\n",
        "import time\n",
        "\n",
        "df = pd.DataFrame({'A': range(1000000), 'B': ['X'] * 1000000})\n",
        "\n",
        "# CSV\n",
        "start = time.time()\n",
        "df.to_csv('data.csv', index=False)\n",
        "df_csv = pd.read_csv('data.csv')\n",
        "print(\"CSV time:\", time.time() - start)\n",
        "\n",
        "# Parquet\n",
        "start = time.time()\n",
        "df.to_parquet('data.parquet', index=False)\n",
        "df_parquet = pd.read_parquet('data.parquet')\n",
        "print(\"Parquet time:\", time.time() - start)"
      ],
      "metadata": {
        "colab": {
          "base_uri": "https://localhost:8080/"
        },
        "id": "C7VwlDEnzTF3",
        "outputId": "ab5d3d3b-b20d-4e8f-fb43-031fc4bd841a"
      },
      "execution_count": 5,
      "outputs": [
        {
          "output_type": "stream",
          "name": "stdout",
          "text": [
            "CSV time: 1.9433872699737549\n",
            "Parquet time: 0.6122832298278809\n"
          ]
        }
      ]
    }
  ]
}